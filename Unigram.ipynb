import nltk
from nltk import FreqDist
from nltk.tokenize import word_tokenize
import pandas as pd
nltk.download('punkt')

# Assuming you have defined 'data' somewhere before this point
text_column = data['All Comments']
text_column = text_column.apply(lambda x: str(x))

def is_bengali_word(word):
    bengali_range = (0x0980, 0x09FF)
    return all(ord(char) >= bengali_range[0] and ord(char) <= bengali_range[1] for char in word)

combined_text = ' '.join(text_column)
words = word_tokenize(combined_text)
bengali_words = [word for word in words if is_bengali_word(word)]
fdist = FreqDist(bengali_words)

output_data = {'Bengali_Word': fdist.keys(), 'Frequency': fdist.values()}
output_df = pd.DataFrame(output_data)  # Corrected variable name

output_df = output_df.sort_values(by='Frequency', ascending=False)

output_excel_path = 'bengali_word_frequency2.xlsx'
output_df.to_excel(output_excel_path, index=False)

print("Bengali word output saved to", output_excel_path)

