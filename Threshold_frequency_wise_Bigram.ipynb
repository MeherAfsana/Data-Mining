import pandas as pd

# Load the Excel file into a DataFrame
excel_file_path = "C:\\Users\\PC\\OneDrive\\Desktop\\bengali_bigram_frequency2.xlsx"  # Add the file extension
sheet_name = "Sheet1"  # Replace with the actual sheet name or index
df = pd.read_excel(excel_file_path, sheet_name=sheet_name)

# Set the threshold frequency
threshold = 20  # You can adjust this threshold as needed

# Filter bigrams based on the threshold frequency
filtered_df = df[df['Frequency'] >= threshold]

# Specify the output Excel file path
output_excel_path = "C:\\Users\\PC\\OneDrive\\Desktop\\bi20.xlsx"

# Save the filtered DataFrame to a new Excel file
filtered_df.to_excel(output_excel_path, index=False)

print(f"Filtered bigrams saved to {output_excel_path}")