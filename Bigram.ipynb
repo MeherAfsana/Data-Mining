import nltk
from nltk import FreqDist, trigrams
from nltk.tokenize import word_tokenize
import pandas as pd
nltk.download('punkt')

# Load or define your data here
# For example: data = pd.read_csv('your_data.csv')

# Make sure you have 'data' defined before proceeding

def is_bengali_word(word):
    bengali_range = (0x0980, 0x09FF)
    return all(bengali_range[0] <= ord(char) <= bengali_range[1] for char in word)

text_column = data['All Comments']
text_column = text_column.apply(lambda x: str(x))

combined_text = ' '.join(text_column)

words = word_tokenize(combined_text)

bengali_words = [word for word in words if is_bengali_word(word)]
bi_grams = list(bigrams(bengali_words))

bi_grams_cleaned = [' '.join(bigram) for bigram in bi_grams]

fdist_bi = FreqDist(bi_grams_cleaned)

output_data_bi = {'bigram': fdist_bi.keys(), 'Frequency': fdist_bi.values()}
output_data_bi = pd.DataFrame(output_data_bi)

output_data_bi = output_data_bi.sort_values(by='Frequency', ascending=False)

output_excel_path_bi = 'bengali_bigram_frequency2.xlsx'
output_data_bi.to_excel(output_excel_path_bi, index=False)

print("Bengali bigram output saved to", output_excel_path_tri)