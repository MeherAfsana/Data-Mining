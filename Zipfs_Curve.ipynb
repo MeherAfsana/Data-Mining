import pandas as pd
import matplotlib.pyplot as plt
from pptx import Presentation
from pptx.util import Inches

# Load your corpus data from an Excel file
corpus_path = 'C:\\Users\\PC\\OneDrive\\Desktop\\all_cmnt.xlsx'
df = pd.read_excel(corpus_path)

# Ensure that the 'All Comment' column contains strings
df['All Comment'] = df['All Comment'].astype(str)

# Tokenize the text into words
all_words = ' '.join(df['All Comment']).split()

# Count the word frequencies
word_freq = pd.Series(all_words).value_counts()

# Calculate the ranks
word_rank = list(range(1, len(word_freq) + 1))

# Create a Zipf's curve plot
plt.figure(figsize=(8, 5))
plt.loglog(word_rank, word_freq, marker='.', linestyle='None')
plt.title("Zipf's Curve for Corpus")
plt.xlabel("Word Rank (log scale)")
plt.ylabel("Word Frequency (log scale)")

# Save the plot as an image
zipfs_curve_image = 'C:\\Users\\PC\\OneDrive\\Desktop\\zipfs_curve.png'
plt.savefig(zipfs_curve_image, dpi=300, bbox_inches='tight')

# Create a PowerPoint presentation
prs = Presentation()

# Add a slide with a title and content layout
slide_layout = prs.slide_layouts[5]  # 5 corresponds to Title and Content layout
slide = prs.slides.add_slide(slide_layout)

# Set the title of the slide
title = slide.shapes.title
title.text = "Zipf's Curve for Corpus"

# Add the Zipf's curve image to the slide
left = Inches(1)
top = Inches(1.5)
width = Inches(6)
height = Inches(3.5)
slide.shapes.add_picture(zipfs_curve_image, left, top, width, height)

# Save the PowerPoint presentation
output_pptx_file = 'C:\\Users\\PC\\OneDrive\\Desktop\\Zipfs_Curve_Presentation.pptx'
prs.save(output_pptx_file)

print(f"Zipf's Curve presentation saved as {output_pptx_file}")