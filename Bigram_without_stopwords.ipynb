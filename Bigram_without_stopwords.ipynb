import pandas as pd
import re

# Load the Excel files into DataFrames
input_file_path = 'C:\\Users\\PC\\OneDrive\\Desktop\\bengali_bigram_frequency2.xlsx'
stopwords_file_path = 'C:\\Users\\PC\\OneDrive\\Desktop\\stopwords.xlsx'

try:
    df_input = pd.read_excel(input_file_path)
    df_stopwords = pd.read_excel(stopwords_file_path)
except Exception as e:
    print("Error loading Excel files:", e)
    exit()

# Assuming your 'Stop_words' column contains lowercase stopwords
stop_words = set(df_stopwords['Stop_words'])

# Prepare the pattern for matching stop words
stop_words_pattern = '|'.join(map(re.escape, stop_words))

try:
    # Identify rows to remove
    rows_to_remove = df_input[df_input['Bigram'].str.contains(stop_words_pattern, case=False)]
    
    # Remove identified rows
    df_cleaned = df_input[~df_input.index.isin(rows_to_remove.index)]
except Exception as e:
    print("Error while processing data:", e)
    exit()

# Save the updated DataFrame to a new Excel file
output_file_path = 'C:\\Users\\PC\\OneDrive\\Desktop\\stopword_bigram.xlsx'
try:
    df_cleaned.to_excel(output_file_path, index=False)
    print("Cleaned DataFrame saved successfully.")
except Exception as e:
    print("Error saving cleaned DataFrame:", e)
