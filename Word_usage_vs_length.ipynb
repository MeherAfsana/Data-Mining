import pandas as pd
import matplotlib.pyplot as plt
from pptx import Presentation
from pptx.util import Inches

# Load your corpus data from an Excel file
corpus_path = 'C:\\Users\\PC\\OneDrive\\Desktop\\all_cmnt.xlsx'
df = pd.read_excel(corpus_path)

# Ensure that the 'All Comment' column contains strings
df['All Comment'] = df['All Comment'].astype(str)

# Tokenize the text into words
all_words = ' '.join(df['All Comment']).split()

# Calculate word lengths and count their occurrences
word_lengths = [len(word) for word in all_words]
word_length_counts = pd.Series(word_lengths).value_counts().sort_index()

# Create a plot showing usage of words vs. word length
plt.figure(figsize=(8, 5))
plt.bar(word_length_counts.index, word_length_counts.values)
plt.title("Usage of Words vs. Word Length")
plt.xlabel("Word Length")
plt.ylabel("Word Usage")

# Set x-axis limits to display only the range from 0 to 20
plt.xlim(0, 20)

# Save the plot as an image
word_usage_vs_length_image = 'C:\\Users\\PC\\OneDrive\\Desktop\\word_usage_vs_length.png'
plt.savefig(word_usage_vs_length_image, dpi=300, bbox_inches='tight')

# Create a PowerPoint presentation
prs = Presentation()

# Add a slide with a title and content layout
slide_layout = prs.slide_layouts[5]  # 5 corresponds to Title and Content layout
slide = prs.slides.add_slide(slide_layout)

# Set the title of the slide
title = slide.shapes.title
title.text = "Usage of Words vs. Word Length in Corpus"

# Add the word usage vs. word length image to the slide
left = Inches(1)
top = Inches(1.5)
width = Inches(6)
height = Inches(3.5)
slide.shapes.add_picture(word_usage_vs_length_image, left, top, width, height)

# Save the PowerPoint presentation
output_pptx_file = 'C:\\Users\\PC\\OneDrive\\Desktop\\Word_Usage_vs_Length_Presentation.pptx'
prs.save(output_pptx_file)

print(f"Word Usage vs. Word Length presentation saved as {output_pptx_file}")