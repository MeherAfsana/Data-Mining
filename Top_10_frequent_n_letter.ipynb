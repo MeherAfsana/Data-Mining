import pandas as pd
import nltk
from nltk.util import ngrams
from collections import Counter

# Load your text data from the "grams_merge" Excel file
file_path = 'C:\\Users\\PC\\OneDrive\\Desktop\\grams_merge.xlsx'

# Read the Excel file using pandas
df = pd.read_excel(file_path)

# Assuming that your text data is in a column named 'নাটক', you can concatenate it into a single string
text = ' '.join(df['নাটক'])  # Replace 'নাটক' with the actual column name

# Tokenize the text into words (you can customize the tokenizer as needed)
words = nltk.word_tokenize(text.lower())

# Define the value of N for N-grams
N = 1-7  # Change this to your desired N-gram size

# Generate N-grams
n_grams = list(ngrams(words, N))

# Count the occurrences of each N-gram
ngram_counts = Counter(n_grams)

# Get the most common N-grams and their frequencies
most_common_ngrams = ngram_counts.most_common(10)  # Adjust the number as needed

# Create a DataFrame from the most common N-grams
df_ngrams = pd.DataFrame(most_common_ngrams, columns=['N-gram', 'Frequency'])

# Save the DataFrame to an Excel file
output_excel_file = 'C:\\Users\\PC\\OneDrive\\Desktop\\Ngram_Frequencies3.xlsx'
df_ngrams.to_excel(output_excel_file, index=False)

print("N-gram frequencies saved in", output_excel_file)