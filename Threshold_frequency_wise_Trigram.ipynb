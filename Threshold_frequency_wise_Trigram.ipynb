import pandas as pd

# Load the Excel file into a DataFrame
excel_file_path = "C:\\Users\\PC\\OneDrive\\Desktop\\bengali_trigram_frequency2.xlsx"  # Add the file extension
sheet_name = "Sheet1"  # Replace with the actual sheet name or index
df = pd.read_excel(excel_file_path, sheet_name=sheet_name)

# Set the threshold frequency
threshold = 20  # You can adjust this threshold as needed

# Filter trigrams based on the threshold frequency
filtered_df = df[df['Frequency'] >= threshold]

# Specify the output Excel file path
output_excel_path = "C:\\Users\\PC\\OneDrive\\Desktop\\Tri20.xlsx"

# Save the filtered DataFrame to a new Excel file
filtered_df.to_excel(output_excel_path, index=False)

print(f"Filtered trigrams saved to {output_excel_path}")