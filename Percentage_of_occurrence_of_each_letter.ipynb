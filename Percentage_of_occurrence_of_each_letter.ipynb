import pandas as pd
from collections import Counter
import re

# Load Excel file using pandas
excel_file = 'C:\\Users\\PC\\OneDrive\\Desktop\\all_cmnt.xlsx'
df = pd.read_excel(excel_file)

# Ensure that the 'All Comment' column contains strings
df['All Comment'] = df['All Comment'].astype(str)

# Combine all text data from the Excel file
all_text = ' '.join(df['All Comment'])

# Remove non-alphabet characters and convert text to lowercase
cleaned_text = re.sub(r'[^a-zA-Z]', '', all_text).lower()

# Count the occurrences of each letter
letter_counts = Counter(cleaned_text)

# Calculate the total number of letters
total_letters = len(cleaned_text)

# Calculate the percentage of occurrence for each letter
letter_percentages = [(letter, count / total_letters * 100) for letter, count in letter_counts.items()]

# Create a new DataFrame to store the results
result_df = pd.DataFrame(letter_percentages, columns=['Letter', 'Percentage'])

# Save the results as a new Excel file
output_excel_file = 'C:\\Users\\PC\\OneDrive\\Desktop\\Percentage of occurrence of each letter.xlsx'
result_df.to_excel(output_excel_file, index=False)

print("Letter percentages saved in", output_excel_file)