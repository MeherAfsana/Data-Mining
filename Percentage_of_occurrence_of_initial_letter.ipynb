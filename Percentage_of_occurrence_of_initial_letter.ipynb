import pandas as pd
from collections import Counter
import re

# Load Excel file using pandas
excel_file = 'C:\\Users\\PC\\OneDrive\\Desktop\\all_cmnt.xlsx'
df = pd.read_excel(excel_file)

# Ensure that the 'All Comment' column contains strings
df['All Comment'] = df['All Comment'].astype(str)

# Tokenize the text into words
all_words = []
for text in df['All Comment']:
    # Tokenize by space to separate words
    words = text.split()
    all_words.extend(words)

# Extract the initial letter of each word and convert to lowercase
initial_letters = [word[0].lower() for word in all_words if word]

# Count the occurrences of each initial letter
letter_counts = Counter(initial_letters)

# Calculate the total number of initial letters
total_initial_letters = len(initial_letters)

# Calculate the percentage of occurrence for each initial letter
letter_percentages = [(letter, count / total_initial_letters * 100) for letter, count in letter_counts.items()]

# Create a new DataFrame to store the results
result_df = pd.DataFrame(letter_percentages, columns=['Initial Letter', 'Percentage'])

# Save the results as a new Excel file
output_excel_file = 'C:\\Users\\PC\\OneDrive\\Desktop\\Percentage of occurrence of initial letter.xlsx'
result_df.to_excel(output_excel_file, index=False)

print("Initial letter percentages saved in", output_excel_file)