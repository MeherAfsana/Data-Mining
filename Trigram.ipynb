import nltk
from nltk import FreqDist, trigrams
from nltk.tokenize import word_tokenize
import pandas as pd
nltk.download('punkt')

# Load or define your data here
# For example: data = pd.read_csv('your_data.csv')

# Make sure you have 'data' defined before proceeding

def is_bengali_word(word):
    bengali_range = (0x0980, 0x09FF)
    return all(bengali_range[0] <= ord(char) <= bengali_range[1] for char in word)

text_column = data['All Comments']
text_column = text_column.apply(lambda x: str(x))

combined_text = ' '.join(text_column)

words = word_tokenize(combined_text)

bengali_words = [word for word in words if is_bengali_word(word)]

tri_grams = list(trigrams(bengali_words))
tri_grams_cleaned = [' '.join(trigram) for trigram in tri_grams]

fdist_tri = FreqDist(tri_grams_cleaned)

output_data_tri = {'Trigram': fdist_tri.keys(), 'Frequency': fdist_tri.values()}
output_data_tri = pd.DataFrame(output_data_tri)

output_data_tri = output_data_tri.sort_values(by='Frequency', ascending=False)

output_excel_path_tri = 'bengali_trigram_frequency2.xlsx'
output_data_tri.to_excel(output_excel_path_tri, index=False)

print("Bengali trigram output saved to", output_excel_path_tri)
